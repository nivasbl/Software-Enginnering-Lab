{
  "nbformat": 4,
  "nbformat_minor": 0,
  "metadata": {
    "colab": {
      "provenance": [],
      "authorship_tag": "ABX9TyNoqA6SwnBhI00RH/vRJ0Lm",
      "include_colab_link": true
    },
    "kernelspec": {
      "name": "python3",
      "display_name": "Python 3"
    },
    "language_info": {
      "name": "python"
    }
  },
  "cells": [
    {
      "cell_type": "markdown",
      "metadata": {
        "id": "view-in-github",
        "colab_type": "text"
      },
      "source": [
        "<a href=\"https://colab.research.google.com/github/nivasbl/Software-Enginnering-Lab/blob/main/Wheather_Modelling.ipynb\" target=\"_parent\"><img src=\"https://colab.research.google.com/assets/colab-badge.svg\" alt=\"Open In Colab\"/></a>"
      ]
    },
    {
      "cell_type": "code",
      "execution_count": 15,
      "metadata": {
        "id": "5R-XhgjkRhdV"
      },
      "outputs": [],
      "source": [
        "def Temperature_modeling(a,b,c,time):\n",
        "  temperature = a*time**2 + b*time +c\n",
        "  return temperature"
      ]
    },
    {
      "cell_type": "markdown",
      "source": [],
      "metadata": {
        "id": "1V6nJtAPTE23"
      }
    },
    {
      "cell_type": "code",
      "source": [
        "#hardcoded variables\n",
        "a,b,c = 0.1,2,10\n",
        "time = 5"
      ],
      "metadata": {
        "id": "SVU1fvcUR4lo"
      },
      "execution_count": 16,
      "outputs": []
    },
    {
      "cell_type": "code",
      "source": [
        "#display results\n",
        "print(\"Hard-coded variables for wheather modeling\")\n",
        "print(\"Temperature for hardcoded coefficients at time\",time,\"hours:\",Temperature_modeling(a,b,c,time))"
      ],
      "metadata": {
        "colab": {
          "base_uri": "https://localhost:8080/"
        },
        "id": "dJWMWYpcSAIC",
        "outputId": "6f85e70c-546c-474d-d468-60f149203bb9"
      },
      "execution_count": 17,
      "outputs": [
        {
          "output_type": "stream",
          "name": "stdout",
          "text": [
            "Hard-coded variables for wheather modeling\n",
            "Temperature for hardcoded coefficients at time 5 hours: 22.5\n"
          ]
        }
      ]
    },
    {
      "cell_type": "code",
      "source": [
        "a = float(input(\"Enter coefficient a: \"))\n",
        "b = float(input(\"Enter coefficient b: \"))\n",
        "c = float(input(\"Enter coefficient c: \"))"
      ],
      "metadata": {
        "colab": {
          "base_uri": "https://localhost:8080/"
        },
        "id": "1jMGjvfiSIVf",
        "outputId": "c5b67308-1e1f-4f9b-d8e2-3fab4f6518bc"
      },
      "execution_count": 18,
      "outputs": [
        {
          "name": "stdout",
          "output_type": "stream",
          "text": [
            "Enter coefficient a: 0.3\n",
            "Enter coefficient b: 10\n",
            "Enter coefficient c: 10\n"
          ]
        }
      ]
    },
    {
      "cell_type": "code",
      "source": [
        "time = float(input(\"Enter time: \"))"
      ],
      "metadata": {
        "colab": {
          "base_uri": "https://localhost:8080/"
        },
        "id": "vpD7KajhTQTC",
        "outputId": "1e988bc1-e247-4573-b4b2-a3f9c7eb7f7d"
      },
      "execution_count": 19,
      "outputs": [
        {
          "name": "stdout",
          "output_type": "stream",
          "text": [
            "Enter time: 4\n"
          ]
        }
      ]
    },
    {
      "cell_type": "code",
      "source": [
        "print(\"Hard-coded variables for weather modeling\")\n",
        "print(\"Temperature from keyboard coefficients at time\", time, \"hours:\", Temperature_modeling(a, b, c, time))"
      ],
      "metadata": {
        "colab": {
          "base_uri": "https://localhost:8080/"
        },
        "id": "OpvXwvyBTYKb",
        "outputId": "1e1a51bc-080a-4570-f82b-72e69432e18a"
      },
      "execution_count": 20,
      "outputs": [
        {
          "output_type": "stream",
          "name": "stdout",
          "text": [
            "Hard-coded variables for weather modeling\n",
            "Temperature from keyboard coefficients at time 4.0 hours: 54.8\n"
          ]
        }
      ]
    },
    {
      "cell_type": "code",
      "source": [
        "#Reading Variables from a file\n",
        "def read_from_file(filename):\n",
        "    with open(filename, 'r') as file:\n",
        "        lines = file.readlines()\n",
        "    coefficients = [tuple(map(float, line.strip().split(','))) for line in lines]\n",
        "    return coefficients"
      ],
      "metadata": {
        "id": "4Wpr4VKpTaAq"
      },
      "execution_count": 22,
      "outputs": []
    },
    {
      "cell_type": "code",
      "source": [
        "#Example: Solve for a single set of inputs\n",
        "coefficients = read_from_file('/content/input1.txt')\n",
        "\n",
        "a, b, c, time = coefficients[0]\n",
        "temperature = Temperature_modeling(a, b, c, time)\n",
        "\n",
        "print(\"Read from a file for weather modeling\")\n",
        "print(\"Temperature from keyboard coefficients at time\", time, \"hours:\", Temperature_modeling(a, b, c, time))\n"
      ],
      "metadata": {
        "colab": {
          "base_uri": "https://localhost:8080/"
        },
        "id": "W3Y-NfE3Tu_5",
        "outputId": "5c07c500-7935-43d0-f336-d1351003e224"
      },
      "execution_count": 23,
      "outputs": [
        {
          "output_type": "stream",
          "name": "stdout",
          "text": [
            "Read from a file for weather modeling\n",
            "Temperature from keyboard coefficients at time 4.0 hours: 23.6\n"
          ]
        }
      ]
    },
    {
      "cell_type": "code",
      "source": [
        "# Solve for all sets in the file\n",
        "for idx, (a, b, c, time) in enumerate(coefficients):\n",
        "    temperature = Temperature_modeling(a, b, c, time)\n",
        "    print(\"Temperature from keyboard coefficients at time\", time, \"hours:\", Temperature_modeling(a, b, c, time))\n"
      ],
      "metadata": {
        "colab": {
          "base_uri": "https://localhost:8080/"
        },
        "id": "jwiRX9RXUX61",
        "outputId": "7f09efbd-b9d4-44af-aa01-7b51161fdb71"
      },
      "execution_count": 24,
      "outputs": [
        {
          "output_type": "stream",
          "name": "stdout",
          "text": [
            "Temperature from keyboard coefficients at time 4.0 hours: 23.6\n",
            "Temperature from keyboard coefficients at time 5.0 hours: 36.0\n",
            "Temperature from keyboard coefficients at time 6.0 hours: 52.8\n"
          ]
        }
      ]
    },
    {
      "cell_type": "code",
      "source": [],
      "metadata": {
        "id": "xLjvJV4eVQ1v"
      },
      "execution_count": null,
      "outputs": []
    }
  ]
}